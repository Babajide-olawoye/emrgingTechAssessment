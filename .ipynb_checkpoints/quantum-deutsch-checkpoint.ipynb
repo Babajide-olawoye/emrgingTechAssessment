{
 "cells": [
  {
   "cell_type": "markdown",
   "id": "38a19e3e-24e6-4019-8a38-10406d4b769c",
   "metadata": {},
   "source": [
    "# Quantum computing \n",
    "\n",
    "### What is Quantum computing\n",
    "\n",
    "When it comes to modern physics, quantum theory is the main theory that explains how matter and energy work at the atomic and subatomic level. At that level, things like quantum physics and quantum mechanics are used to talk about how things like matter and energy work and what they look like.\n",
    "So what does quantum computing have to do with quantum theory? Well Quantum computing is a branch of computing that tries to make computer technology operate by implements the theories from quantum theory. With classical computering, which are the majority of computer that we are using today, can only encode information in bits that take the value of 1 or 0. Whereas with quantum computing you use things called \"quantum bits,\" or \"qubits.\" It takes advantage of the unique ability of subatomic particles to be in more than one state at the same time (i.e., a 1 and a 0 at the same time)\n",
    "\n",
    "### Quantum computing vs Classical computing\n",
    "\n",
    "1. Quantum computing is reported to be about a 100 million times faster than any classical computer. Google announced in 2019 that its Sycamore quantum computer had completed a task that a classical computer would have taken 10,000 years to complete in 200 seconds.\n",
    "2. The use of quantum tunneling  in  quantum computers reduces power consumption from about 100 up to 1000 times more than classical computing\n",
    "3. Classical and quantum computers both uses binary code to store data. Classical computers store data in bits as either a 1 or 0, whereas quantum computers store data in qubits as a1, a0, or both simultaneously\n",
    "4. For everyday tasks, classical computers are the best option. Quantum computers, on the other hand, are ideal for running simulations and data analyses, such as in drug or chemical trials.\n",
    "5. Quantum computing power grows exponentially as the number of qubits linked together grows. Meanwhile, with classical computing connecting more transistors increases power in a linear fashion.\n",
    "\n",
    "### Binary code for Quantum and Classical computing\n",
    "\n",
    "#### Classical bits\n",
    "Classical bits \n",
    "\n",
    "\n"
   ]
  },
  {
   "cell_type": "markdown",
   "id": "1f66b390-228b-4e34-a419-3444981d02e8",
   "metadata": {},
   "source": [
    "# The Deutsch-Jozsa algorithm \n",
    "\n",
    "The Deutsch-Jozsa problem was created to test two algorithm, one was the Deutsch-Jozsa algorithm and the other was the \"best classical algorithm\". The Deutsch-Jozsa algoritm was the first quantum algorithm to outperform the classical algorithm. It demonstrated that using a quantum computer can be more beneficial for certain task. Down below I compare the 2 algorithm, with brief explanations. To read more about the deutsch algorithm [click here](https://qiskit.org/textbook/ch-algorithms/deutsch-jozsa.html).\n",
    "\n",
    "f({x0,x1,x2,...}) → 0 or 1, where xn is 0 or 1\n",
    "\n",
    "## The Deutsch-Jozsa Problem \n",
    "\n",
    "The Deutsch-Jozsa problem is defined as follows. Consider a function f(x), that takes as input n-bit strings  and returns 0 or 1. Suppose we are promised that f(x) is either a constant function that takes the same value C £ {0,1} on all inputs X, or a balanced function that takes each value  0 and 1 on exactly half of the inputs. The goal is to decide whether f is constant or balanced by making as few function evaluations as possible. \n",
    "\n",
    "\n",
    "\n",
    "### Classical computing solution\n",
    "\n",
    "Lets look at a solution using a classical computing approach. We are told the number is either balanced (so half of the result will be 1 and the other half 0), or constant (the result will all be 1 or 0). So for us to check whether the result is balance/constant we have to get the firsgt half of the result then the following following result after that. Example we have a 6 bit string. The total number of results would be 2<sup>6</sup> = 64. Lets say we check the first 32 results and they are all 0. We still need to check the 33th result, if it's 0 then it would be right to assume that the remaining result are all 0 since more then half of the results equal 0 (making this constant). If the result is 1 then its right to assume that the remaing results will all be 1 and the function is balance (making it balance). So with the classical approach we have to check the 1st half plus 1 number of the results, if we get the same result each time for the 1st half. \n",
    "\n",
    "\n",
    "### Quantum computing solution using Qiskit\n",
    "\n",
    "\n",
    "#### Algorithm\n",
    "\n",
    "1. Import packages\n",
    "2. Initialize registers for constant, balance, and target\n",
    "3. Create circuit for constant oracle\n",
    "4. Create circuit for balance oracle\n",
    "\n",
    "##### Implementing constant oracle\n",
    "5. Initialize two quantum registers. The first register contains n number of qubits, initialize them by |0> The second has only one qubit initialized it by |1>\n",
    "6. Apply Hadamard gates to each qubit in both registers\n",
    "7. Pass it through the constant quantum oracle if result = 0 \n",
    "8. Pass it through the constant quantum oracle if result = 1\n",
    "9. Apply the Hadamard gate to each qubit in the first register.\n",
    "\n",
    "##### Implementing balance oracle\n",
    "\n",
    "\n",
    "\n",
    "<!--\n",
    "2. Initialize two quantum registers. The first register contains n number of qubits, initialize them by |0> The second has only one qubit initialized it by |1>\n",
    "3. .\n",
    "\n",
    " .\n",
    "4. Pass it through the quantum oracle (the black box function).\n",
    "5. Apply the Hadamard gate to each qubit in the first register.\n",
    "6. Measure each qubit in the first register, thus measuring the overall quantum state.\n",
    "7. If we measure the state |00…0>, we know it is constant. If we measure anything else, we know it is balanced. -->\n",
    "\n"
   ]
  },
  {
   "cell_type": "code",
   "execution_count": 1,
   "id": "1557964d-4ab2-4bfb-af82-21ba1df84226",
   "metadata": {},
   "outputs": [],
   "source": [
    "#1 import packages\n",
    "import numpy as np\n",
    "import qiskit\n",
    "from qiskit import IBMQ, Aer,QuantumRegister\n",
    "\n",
    "from qiskit.visualization import plot_histogram\n",
    "import qiskit.providers.aer as aer\n"
   ]
  },
  {
   "cell_type": "code",
   "execution_count": 2,
   "id": "4de9e23b-3bb3-4903-b340-7577dab481ba",
   "metadata": {},
   "outputs": [],
   "source": [
    "#2 Creating register\n",
    "\n",
    "Qbit = \"10101\" #Examplar number of bit in string\n",
    "num_Qbit = len(Qbit)\n",
    "\n",
    "register_Const = QuantumRegister(num_Qbit)\n",
    "register_bal = QuantumRegister(num_Qbit)\n",
    "register_target = QuantumRegister(1)\n",
    "\n"
   ]
  },
  {
   "cell_type": "code",
   "execution_count": 3,
   "id": "17f23918-90ee-4fdf-a52a-cd194afb852b",
   "metadata": {},
   "outputs": [
    {
     "data": {
      "text/plain": [
       "<qiskit.circuit.instructionset.InstructionSet at 0x28a8675db40>"
      ]
     },
     "execution_count": 3,
     "metadata": {},
     "output_type": "execute_result"
    }
   ],
   "source": [
    "#3 Creating circuit for const oracle\n",
    "# creating circuit\n",
    "\n",
    "#const_oracle for func that equals 0 \n",
    "const_oracle_1 = qiskit.QuantumCircuit(register_Const, register_target)\n",
    "const_oracle_1.x(num_Qbit) #Draws x\n",
    "\n",
    "\n",
    "#const_oracle for func that equals 1\n",
    "const_oracle_2 = qiskit.QuantumCircuit(register_Const, register_target)\n",
    "const_oracle_2.i(num_Qbit) #Draws I\n",
    "\n",
    "#const_oracle_1.draw() #Draw\n"
   ]
  },
  {
   "cell_type": "code",
   "execution_count": 4,
   "id": "8aead680-79b1-4c82-ae42-8b0cfa8f6573",
   "metadata": {},
   "outputs": [
    {
     "data": {
      "text/html": [
       "<pre style=\"word-wrap: normal;white-space: pre;background: #fff0;line-height: 1.1;font-family: &quot;Courier New&quot;,Courier,monospace\">           \n",
       "q0_0: ─────\n",
       "           \n",
       "q0_1: ─────\n",
       "           \n",
       "q0_2: ─────\n",
       "           \n",
       "q0_3: ─────\n",
       "           \n",
       "q0_4: ─────\n",
       "      ┌───┐\n",
       "  q2: ┤ I ├\n",
       "      └───┘</pre>"
      ],
      "text/plain": [
       "           \n",
       "q0_0: ─────\n",
       "           \n",
       "q0_1: ─────\n",
       "           \n",
       "q0_2: ─────\n",
       "           \n",
       "q0_3: ─────\n",
       "           \n",
       "q0_4: ─────\n",
       "      ┌───┐\n",
       "  q2: ┤ I ├\n",
       "      └───┘"
      ]
     },
     "execution_count": 4,
     "metadata": {},
     "output_type": "execute_result"
    }
   ],
   "source": [
    "const_oracle_2.draw()"
   ]
  },
  {
   "cell_type": "code",
   "execution_count": 5,
   "id": "441c9acc-2a64-4459-9083-4a1762210631",
   "metadata": {},
   "outputs": [
    {
     "data": {
      "text/html": [
       "<pre style=\"word-wrap: normal;white-space: pre;background: #fff0;line-height: 1.1;font-family: &quot;Courier New&quot;,Courier,monospace\">      ┌───┐ ░                           ░ ┌───┐\n",
       "q1_0: ┤ X ├─░───■───────────────────────░─┤ X ├\n",
       "      └───┘ ░   │                       ░ └───┘\n",
       "q1_1: ──────░───┼────■──────────────────░──────\n",
       "      ┌───┐ ░   │    │                  ░ ┌───┐\n",
       "q1_2: ┤ X ├─░───┼────┼────■─────────────░─┤ X ├\n",
       "      └───┘ ░   │    │    │             ░ └───┘\n",
       "q1_3: ──────░───┼────┼────┼────■────────░──────\n",
       "      ┌───┐ ░   │    │    │    │        ░ ┌───┐\n",
       "q1_4: ┤ X ├─░───┼────┼────┼────┼────■───░─┤ X ├\n",
       "      └───┘ ░ ┌─┴─┐┌─┴─┐┌─┴─┐┌─┴─┐┌─┴─┐ ░ └───┘\n",
       "  q2: ──────░─┤ X ├┤ X ├┤ X ├┤ X ├┤ X ├─░──────\n",
       "            ░ └───┘└───┘└───┘└───┘└───┘ ░      </pre>"
      ],
      "text/plain": [
       "      ┌───┐ ░                           ░ ┌───┐\n",
       "q1_0: ┤ X ├─░───■───────────────────────░─┤ X ├\n",
       "      └───┘ ░   │                       ░ └───┘\n",
       "q1_1: ──────░───┼────■──────────────────░──────\n",
       "      ┌───┐ ░   │    │                  ░ ┌───┐\n",
       "q1_2: ┤ X ├─░───┼────┼────■─────────────░─┤ X ├\n",
       "      └───┘ ░   │    │    │             ░ └───┘\n",
       "q1_3: ──────░───┼────┼────┼────■────────░──────\n",
       "      ┌───┐ ░   │    │    │    │        ░ ┌───┐\n",
       "q1_4: ┤ X ├─░───┼────┼────┼────┼────■───░─┤ X ├\n",
       "      └───┘ ░ ┌─┴─┐┌─┴─┐┌─┴─┐┌─┴─┐┌─┴─┐ ░ └───┘\n",
       "  q2: ──────░─┤ X ├┤ X ├┤ X ├┤ X ├┤ X ├─░──────\n",
       "            ░ └───┘└───┘└───┘└───┘└───┘ ░      "
      ]
     },
     "execution_count": 5,
     "metadata": {},
     "output_type": "execute_result"
    }
   ],
   "source": [
    "#4 Creating circuit for bal oracle\n",
    "bal_oracle = qiskit.QuantumCircuit(register_bal, register_target)\n",
    "\n",
    "Qbit = \"10101\"\n",
    "num_Qbit = len(Qbit)\n",
    "\n",
    "\n",
    "# Place X-gates\n",
    "for qubit in range(num_Qbit):\n",
    "    if Qbit[qubit] == '1':\n",
    "        bal_oracle.x(qubit)\n",
    "        \n",
    "bal_oracle.barrier()\n",
    "\n",
    "for qubit in range(num_Qbit):\n",
    "    bal_oracle.cx(qubit, num_Qbit)\n",
    "\n",
    "bal_oracle.barrier()\n",
    "\n",
    "for qubit in range(num_Qbit):\n",
    "    if Qbit[qubit] == '1':\n",
    "        bal_oracle.x(qubit)\n",
    "        \n",
    "\n",
    "bal_oracle.draw()"
   ]
  },
  {
   "cell_type": "code",
   "execution_count": 6,
   "id": "f473c77f-6356-4071-adc0-2d0a2628f5d7",
   "metadata": {},
   "outputs": [
    {
     "data": {
      "text/plain": [
       "<qiskit.circuit.instructionset.InstructionSet at 0x28abee6d9c0>"
      ]
     },
     "execution_count": 6,
     "metadata": {},
     "output_type": "execute_result"
    }
   ],
   "source": [
    "#5. Initialize two quantum registers.\n",
    "#5. Initialize two quantum registers. \n",
    "\n",
    "import pylatexenc\n",
    "\n",
    "Qbit = \"10101\"\n",
    "num_Qbit = len(Qbit)\n",
    "\n",
    "register_input = QuantumRegister(num_Qbit, \"q3\")\n",
    "register_output = QuantumRegister(1, \"q4\")\n",
    "cr = qiskit.ClassicalRegister(num_Qbit, 'c')\n",
    "\n",
    "\n",
    "circuit = qiskit.QuantumCircuit(register_input, register_output, cr)\n",
    "\n",
    "# for x in range (num_Qbit):\n",
    "#     circuit.initialize([1,0], x)\n",
    "\n",
    "# circuit.initialize([0,1],num_Qbit )\n",
    "#circuit.draw(output = \"mpl\")\n"
   ]
  },
  {
   "cell_type": "code",
   "execution_count": 7,
   "id": "29826586-63af-41fd-9776-fc53008cdb39",
   "metadata": {},
   "outputs": [
    {
     "data": {
      "image/png": "[encoded data removed]",
      "text/plain": [
       "<Figure size 160.069x445.48 with 1 Axes>"
      ]
     },
     "execution_count": 7,
     "metadata": {},
     "output_type": "execute_result"
    }
   ],
   "source": [
    "circuit.draw(output = \"mpl\")"
   ]
  },
  {
   "cell_type": "code",
   "execution_count": 8,
   "id": "00bf2167-0d13-46c2-a46b-679864c8357e",
   "metadata": {},
   "outputs": [
    {
     "data": {
      "text/plain": [
       "<qiskit.circuit.instructionset.InstructionSet at 0x28abee63580>"
      ]
     },
     "execution_count": 8,
     "metadata": {},
     "output_type": "execute_result"
    }
   ],
   "source": [
    "#6 Apply Hadamard gates to each qubit in both registers\n",
    "for x in range (num_Qbit):\n",
    "    circuit.h(x)\n",
    "\n",
    "#Applying to 2nd register\n",
    "circuit.h(num_Qbit)\n"
   ]
  },
  {
   "cell_type": "code",
   "execution_count": 9,
   "id": "6af9c4ae-a2df-4c83-8ed0-1dbc5485a98e",
   "metadata": {},
   "outputs": [
    {
     "data": {
      "text/plain": [
       "<qiskit.circuit.instructionset.InstructionSet at 0x28ac0b0d240>"
      ]
     },
     "execution_count": 9,
     "metadata": {},
     "output_type": "execute_result"
    }
   ],
   "source": [
    "circuit.barrier()\n",
    "#circuit.draw(output='mpl')\n"
   ]
  },
  {
   "cell_type": "code",
   "execution_count": 10,
   "id": "c570d4f0-919e-4691-82d9-3c77628a7e36",
   "metadata": {},
   "outputs": [
    {
     "data": {
      "image/png": "[encoded data removed]",
      "text/plain": [
       "<Figure size 340.669x445.48 with 1 Axes>"
      ]
     },
     "execution_count": 10,
     "metadata": {},
     "output_type": "execute_result"
    }
   ],
   "source": [
    "# 7. Pass it through the constant quantum oracle if result = 0 \n",
    "\n",
    "resultingCircuit0 = circuit.compose(const_oracle_1)\n",
    "\n",
    "resultingCircuit0.draw(output = \"mpl\")\n"
   ]
  },
  {
   "cell_type": "code",
   "execution_count": 11,
   "id": "3c1f4150-8e58-4c83-9d78-5d77a5041991",
   "metadata": {},
   "outputs": [
    {
     "data": {
      "text/html": [
       "<pre style=\"word-wrap: normal;white-space: pre;background: #fff0;line-height: 1.1;font-family: &quot;Courier New&quot;,Courier,monospace\">      ┌─────────────────┐┌───┐ ░ ┌───┐ ░ \n",
       "q3_0: ┤ Initialize(1,0) ├┤ H ├─░─┤ H ├─░─\n",
       "      ├─────────────────┤├───┤ ░ ├───┤ ░ \n",
       "q3_1: ┤ Initialize(1,0) ├┤ H ├─░─┤ H ├─░─\n",
       "      ├─────────────────┤├───┤ ░ ├───┤ ░ \n",
       "q3_2: ┤ Initialize(1,0) ├┤ H ├─░─┤ H ├─░─\n",
       "      ├─────────────────┤├───┤ ░ ├───┤ ░ \n",
       "q3_3: ┤ Initialize(1,0) ├┤ H ├─░─┤ H ├─░─\n",
       "      ├─────────────────┤├───┤ ░ ├───┤ ░ \n",
       "q3_4: ┤ Initialize(1,0) ├┤ H ├─░─┤ H ├─░─\n",
       "      ├─────────────────┤├───┤ ░ ├───┤ ░ \n",
       "  q4: ┤ Initialize(0,1) ├┤ H ├─░─┤ X ├─░─\n",
       "      └─────────────────┘└───┘ ░ └───┘ ░ \n",
       " c: 5/═══════════════════════════════════\n",
       "                                         </pre>"
      ],
      "text/plain": [
       "      ┌─────────────────┐┌───┐ ░ ┌───┐ ░ \n",
       "q3_0: ┤ Initialize(1,0) ├┤ H ├─░─┤ H ├─░─\n",
       "      ├─────────────────┤├───┤ ░ ├───┤ ░ \n",
       "q3_1: ┤ Initialize(1,0) ├┤ H ├─░─┤ H ├─░─\n",
       "      ├─────────────────┤├───┤ ░ ├───┤ ░ \n",
       "q3_2: ┤ Initialize(1,0) ├┤ H ├─░─┤ H ├─░─\n",
       "      ├─────────────────┤├───┤ ░ ├───┤ ░ \n",
       "q3_3: ┤ Initialize(1,0) ├┤ H ├─░─┤ H ├─░─\n",
       "      ├─────────────────┤├───┤ ░ ├───┤ ░ \n",
       "q3_4: ┤ Initialize(1,0) ├┤ H ├─░─┤ H ├─░─\n",
       "      ├─────────────────┤├───┤ ░ ├───┤ ░ \n",
       "  q4: ┤ Initialize(0,1) ├┤ H ├─░─┤ X ├─░─\n",
       "      └─────────────────┘└───┘ ░ └───┘ ░ \n",
       " c: 5/═══════════════════════════════════\n",
       "                                         "
      ]
     },
     "execution_count": 11,
     "metadata": {},
     "output_type": "execute_result"
    }
   ],
   "source": [
    "#8 Apply the Hadamard gate to each qubit in the first register.\n",
    "\n",
    "for x in range (num_Qbit):\n",
    "    resultingCircuit0.h(x)\n",
    "\n",
    "resultingCircuit0.barrier()\n",
    "\n",
    "resultingCircuit0.draw()\n"
   ]
  },
  {
   "cell_type": "code",
   "execution_count": 12,
   "id": "af1e5ca1-6ea2-46c3-b96e-4471318bacc6",
   "metadata": {},
   "outputs": [
    {
     "name": "stdout",
     "output_type": "stream",
     "text": [
      "Qubit(QuantumRegister(5, 'q3'), 1)\n",
      "Qubit ordering: [Qubit(QuantumRegister(5, 'q3'), 0), Qubit(QuantumRegister(5, 'q3'), 1), Qubit(QuantumRegister(5, 'q3'), 2), Qubit(QuantumRegister(5, 'q3'), 3), Qubit(QuantumRegister(5, 'q3'), 4), Qubit(QuantumRegister(1, 'q4'), 0)]\n"
     ]
    }
   ],
   "source": [
    "print(register_input[1])\n",
    "print('Qubit ordering:', resultingCircuit0.qubits)"
   ]
  },
  {
   "cell_type": "code",
   "execution_count": 13,
   "id": "f93ba57e-58b6-4925-9486-5f93a7ff654b",
   "metadata": {},
   "outputs": [
    {
     "data": {
      "image/png": "[encoded data removed]",
      "text/plain": [
       "<Figure size 701.869x445.48 with 1 Axes>"
      ]
     },
     "execution_count": 13,
     "metadata": {},
     "output_type": "execute_result"
    }
   ],
   "source": [
    "#9 Measurement\n",
    "\n",
    "\n",
    "for x in range(num_Qbit):\n",
    "    resultingCircuit0.measure(x,x)\n",
    "\n",
    "\n",
    "resultingCircuit0.draw(output = \"mpl\")"
   ]
  },
  {
   "cell_type": "code",
   "execution_count": 21,
   "id": "6ae98e50-e55d-4781-a1ab-e50b4e3ee466",
   "metadata": {},
   "outputs": [
    {
     "data": {
      "image/png": "[encoded data removed]",
      "text/plain": [
       "<Figure size 504x360 with 1 Axes>"
      ]
     },
     "execution_count": 21,
     "metadata": {},
     "output_type": "execute_result"
    }
   ],
   "source": [
    "# use local simulator\n",
    "aer_sim = Aer.get_backend('aer_simulator')\n",
    "qobj = qiskit.transpile(resultingCircuit0, simulator)\n",
    "\n",
    "results = aer_sim.run(qobj, shots=50).result()\n",
    "answer = results.get_counts()\n",
    "\n",
    "plot_histogram(answer)"
   ]
  },
  {
   "cell_type": "code",
   "execution_count": 15,
   "id": "47cea283-8eec-423b-a2f6-87c239bf8140",
   "metadata": {},
   "outputs": [],
   "source": [
    "resultingCircuit1 = circuit.compose(const_oracle_2)\n",
    "\n"
   ]
  },
  {
   "cell_type": "code",
   "execution_count": 16,
   "id": "8d72a7b8-49ff-437b-ae1d-17cfd51ed16d",
   "metadata": {},
   "outputs": [
    {
     "data": {
      "image/png": "[encoded data removed]",
      "text/plain": [
       "<Figure size 701.869x445.48 with 1 Axes>"
      ]
     },
     "execution_count": 16,
     "metadata": {},
     "output_type": "execute_result"
    }
   ],
   "source": [
    "\n",
    "\n",
    "for x in range (num_Qbit):\n",
    "    resultingCircuit1.h(x)\n",
    "\n",
    "resultingCircuit1.barrier()\n",
    "\n",
    "\n",
    "for x in range(num_Qbit):\n",
    "    resultingCircuit1.measure(x,x)\n",
    "\n",
    "\n",
    "resultingCircuit1.draw(output = \"mpl\")\n"
   ]
  },
  {
   "cell_type": "code",
   "execution_count": 19,
   "id": "b8ba1b40-0a60-47ef-9c36-818b21ea2427",
   "metadata": {},
   "outputs": [
    {
     "data": {
      "text/html": [
       "<pre style=\"word-wrap: normal;white-space: pre;background: #fff0;line-height: 1.1;font-family: &quot;Courier New&quot;,Courier,monospace\">      ┌─────────────────┐┌───┐ ░ ┌───┐ ░ ┌─┐            \n",
       "q3_0: ┤ Initialize(1,0) ├┤ H ├─░─┤ H ├─░─┤M├────────────\n",
       "      ├─────────────────┤├───┤ ░ ├───┤ ░ └╥┘┌─┐         \n",
       "q3_1: ┤ Initialize(1,0) ├┤ H ├─░─┤ H ├─░──╫─┤M├─────────\n",
       "      ├─────────────────┤├───┤ ░ ├───┤ ░  ║ └╥┘┌─┐      \n",
       "q3_2: ┤ Initialize(1,0) ├┤ H ├─░─┤ H ├─░──╫──╫─┤M├──────\n",
       "      ├─────────────────┤├───┤ ░ ├───┤ ░  ║  ║ └╥┘┌─┐   \n",
       "q3_3: ┤ Initialize(1,0) ├┤ H ├─░─┤ H ├─░──╫──╫──╫─┤M├───\n",
       "      ├─────────────────┤├───┤ ░ ├───┤ ░  ║  ║  ║ └╥┘┌─┐\n",
       "q3_4: ┤ Initialize(1,0) ├┤ H ├─░─┤ H ├─░──╫──╫──╫──╫─┤M├\n",
       "      ├─────────────────┤├───┤ ░ └───┘ ░  ║  ║  ║  ║ └╥┘\n",
       "  q4: ┤ Initialize(0,1) ├┤ H ├─░───────░──╫──╫──╫──╫──╫─\n",
       "      └─────────────────┘└───┘ ░       ░  ║  ║  ║  ║  ║ \n",
       " c: 5/════════════════════════════════════╩══╩══╩══╩══╩═\n",
       "                                          0  1  2  3  4 </pre>"
      ],
      "text/plain": [
       "      ┌─────────────────┐┌───┐ ░ ┌───┐ ░ ┌─┐            \n",
       "q3_0: ┤ Initialize(1,0) ├┤ H ├─░─┤ H ├─░─┤M├────────────\n",
       "      ├─────────────────┤├───┤ ░ ├───┤ ░ └╥┘┌─┐         \n",
       "q3_1: ┤ Initialize(1,0) ├┤ H ├─░─┤ H ├─░──╫─┤M├─────────\n",
       "      ├─────────────────┤├───┤ ░ ├───┤ ░  ║ └╥┘┌─┐      \n",
       "q3_2: ┤ Initialize(1,0) ├┤ H ├─░─┤ H ├─░──╫──╫─┤M├──────\n",
       "      ├─────────────────┤├───┤ ░ ├───┤ ░  ║  ║ └╥┘┌─┐   \n",
       "q3_3: ┤ Initialize(1,0) ├┤ H ├─░─┤ H ├─░──╫──╫──╫─┤M├───\n",
       "      ├─────────────────┤├───┤ ░ ├───┤ ░  ║  ║  ║ └╥┘┌─┐\n",
       "q3_4: ┤ Initialize(1,0) ├┤ H ├─░─┤ H ├─░──╫──╫──╫──╫─┤M├\n",
       "      ├─────────────────┤├───┤ ░ └───┘ ░  ║  ║  ║  ║ └╥┘\n",
       "  q4: ┤ Initialize(0,1) ├┤ H ├─░───────░──╫──╫──╫──╫──╫─\n",
       "      └─────────────────┘└───┘ ░       ░  ║  ║  ║  ║  ║ \n",
       " c: 5/════════════════════════════════════╩══╩══╩══╩══╩═\n",
       "                                          0  1  2  3  4 "
      ]
     },
     "execution_count": 19,
     "metadata": {},
     "output_type": "execute_result"
    }
   ],
   "source": [
    "\n",
    "\n",
    "# Create a simulation instance.\n",
    "simulator = aer.QasmSimulator()\n",
    "\n",
    "# Compile the circuit in the simluator.\n",
    "compcircuit = qiskit.transpile(resultingCircuit1, simulator)\n",
    "\n",
    "compcircuit.draw()\n"
   ]
  },
  {
   "cell_type": "code",
   "execution_count": 18,
   "id": "97449742-4efd-4a9e-b3da-951d319caffe",
   "metadata": {},
   "outputs": [
    {
     "data": {
      "image/png": "[encoded data removed]",
      "text/plain": [
       "<Figure size 72x288 with 1 Axes>"
      ]
     },
     "execution_count": 18,
     "metadata": {},
     "output_type": "execute_result"
    }
   ],
   "source": [
    "# Simulate the circuit 1000 times.\n",
    "job = simulator.run(compcircuit, shots=1000)\n",
    "\n",
    "# Get the results.\n",
    "results = job.result()\n",
    "\n",
    "# Show the result counts.\n",
    "counts = results.get_counts()\n",
    "\n",
    "# Display histogram\n",
    "qiskit.visualization.plot_histogram(counts, figsize=(1, 4))"
   ]
  },
  {
   "cell_type": "code",
   "execution_count": 22,
   "id": "3d0d8c0d-6a9d-4f6c-a72c-ab34378411c8",
   "metadata": {},
   "outputs": [],
   "source": [
    "resultingCircuit0 = circuit.compose(bal_oracle)\n"
   ]
  },
  {
   "cell_type": "code",
   "execution_count": 25,
   "id": "89c33753-192e-4d45-a4f4-711ba83a1337",
   "metadata": {},
   "outputs": [
    {
     "data": {
      "text/html": [
       "<pre style=\"word-wrap: normal;white-space: pre;background: #fff0;line-height: 1.1;font-family: &quot;Courier New&quot;,Courier,monospace\">      ┌─────────────────┐┌───┐ ░ ┌───┐ ░                           ░ ┌───┐   »\n",
       "q3_0: ┤ Initialize(1,0) ├┤ H ├─░─┤ X ├─░───■───────────────────────░─┤ X ├───»\n",
       "      ├─────────────────┤├───┤ ░ └───┘ ░   │                       ░ └───┘┌─┐»\n",
       "q3_1: ┤ Initialize(1,0) ├┤ H ├─░───────░───┼────■──────────────────░──────┤M├»\n",
       "      ├─────────────────┤├───┤ ░ ┌───┐ ░   │    │                  ░ ┌───┐└╥┘»\n",
       "q3_2: ┤ Initialize(1,0) ├┤ H ├─░─┤ X ├─░───┼────┼────■─────────────░─┤ X ├─╫─»\n",
       "      ├─────────────────┤├───┤ ░ └───┘ ░   │    │    │             ░ └───┘ ║ »\n",
       "q3_3: ┤ Initialize(1,0) ├┤ H ├─░───────░───┼────┼────┼────■────────░───────╫─»\n",
       "      ├─────────────────┤├───┤ ░ ┌───┐ ░   │    │    │    │        ░ ┌───┐ ║ »\n",
       "q3_4: ┤ Initialize(1,0) ├┤ H ├─░─┤ X ├─░───┼────┼────┼────┼────■───░─┤ X ├─╫─»\n",
       "      ├─────────────────┤├───┤ ░ └───┘ ░ ┌─┴─┐┌─┴─┐┌─┴─┐┌─┴─┐┌─┴─┐ ░ └───┘ ║ »\n",
       "  q4: ┤ Initialize(0,1) ├┤ H ├─░───────░─┤ X ├┤ X ├┤ X ├┤ X ├┤ X ├─░───────╫─»\n",
       "      └─────────────────┘└───┘ ░       ░ └───┘└───┘└───┘└───┘└───┘ ░       ║ »\n",
       " c: 5/═════════════════════════════════════════════════════════════════════╩═»\n",
       "                                                                           1 »\n",
       "«         ┌─┐      \n",
       "«q3_0: ───┤M├──────\n",
       "«         └╥┘      \n",
       "«q3_1: ────╫───────\n",
       "«          ║ ┌─┐   \n",
       "«q3_2: ────╫─┤M├───\n",
       "«      ┌─┐ ║ └╥┘   \n",
       "«q3_3: ┤M├─╫──╫────\n",
       "«      └╥┘ ║  ║ ┌─┐\n",
       "«q3_4: ─╫──╫──╫─┤M├\n",
       "«       ║  ║  ║ └╥┘\n",
       "«  q4: ─╫──╫──╫──╫─\n",
       "«       ║  ║  ║  ║ \n",
       "« c: 5/═╩══╩══╩══╩═\n",
       "«       3  0  2  4 </pre>"
      ],
      "text/plain": [
       "      ┌─────────────────┐┌───┐ ░ ┌───┐ ░                           ░ ┌───┐   »\n",
       "q3_0: ┤ Initialize(1,0) ├┤ H ├─░─┤ X ├─░───■───────────────────────░─┤ X ├───»\n",
       "      ├─────────────────┤├───┤ ░ └───┘ ░   │                       ░ └───┘┌─┐»\n",
       "q3_1: ┤ Initialize(1,0) ├┤ H ├─░───────░───┼────■──────────────────░──────┤M├»\n",
       "      ├─────────────────┤├───┤ ░ ┌───┐ ░   │    │                  ░ ┌───┐└╥┘»\n",
       "q3_2: ┤ Initialize(1,0) ├┤ H ├─░─┤ X ├─░───┼────┼────■─────────────░─┤ X ├─╫─»\n",
       "      ├─────────────────┤├───┤ ░ └───┘ ░   │    │    │             ░ └───┘ ║ »\n",
       "q3_3: ┤ Initialize(1,0) ├┤ H ├─░───────░───┼────┼────┼────■────────░───────╫─»\n",
       "      ├─────────────────┤├───┤ ░ ┌───┐ ░   │    │    │    │        ░ ┌───┐ ║ »\n",
       "q3_4: ┤ Initialize(1,0) ├┤ H ├─░─┤ X ├─░───┼────┼────┼────┼────■───░─┤ X ├─╫─»\n",
       "      ├─────────────────┤├───┤ ░ └───┘ ░ ┌─┴─┐┌─┴─┐┌─┴─┐┌─┴─┐┌─┴─┐ ░ └───┘ ║ »\n",
       "  q4: ┤ Initialize(0,1) ├┤ H ├─░───────░─┤ X ├┤ X ├┤ X ├┤ X ├┤ X ├─░───────╫─»\n",
       "      └─────────────────┘└───┘ ░       ░ └───┘└───┘└───┘└───┘└───┘ ░       ║ »\n",
       " c: 5/═════════════════════════════════════════════════════════════════════╩═»\n",
       "                                                                           1 »\n",
       "«         ┌─┐      \n",
       "«q3_0: ───┤M├──────\n",
       "«         └╥┘      \n",
       "«q3_1: ────╫───────\n",
       "«          ║ ┌─┐   \n",
       "«q3_2: ────╫─┤M├───\n",
       "«      ┌─┐ ║ └╥┘   \n",
       "«q3_3: ┤M├─╫──╫────\n",
       "«      └╥┘ ║  ║ ┌─┐\n",
       "«q3_4: ─╫──╫──╫─┤M├\n",
       "«       ║  ║  ║ └╥┘\n",
       "«  q4: ─╫──╫──╫──╫─\n",
       "«       ║  ║  ║  ║ \n",
       "« c: 5/═╩══╩══╩══╩═\n",
       "«       3  0  2  4 "
      ]
     },
     "execution_count": 25,
     "metadata": {},
     "output_type": "execute_result"
    }
   ],
   "source": [
    "\n",
    "# Measure\n",
    "for i in range(num_Qbit):\n",
    "    resultingCircuit0.measure(i, i)\n",
    "\n",
    "resultingCircuit0.draw()"
   ]
  },
  {
   "cell_type": "code",
   "execution_count": 28,
   "id": "dab36d8e-8bef-4fa9-aa6b-0643127c418f",
   "metadata": {},
   "outputs": [
    {
     "data": {
      "image/png": "[encoded data removed]",
      "text/plain": [
       "<Figure size 504x360 with 1 Axes>"
      ]
     },
     "execution_count": 28,
     "metadata": {},
     "output_type": "execute_result"
    }
   ],
   "source": [
    "# use local simulator\n",
    "aer_sim = Aer.get_backend('aer_simulator')\n",
    "qobj = qiskit.assemble(resultingCircuit0, aer_sim)\n",
    "results = aer_sim.run(qobj, shots=50).result()\n",
    "answer = results.get_counts()\n",
    "\n",
    "plot_histogram(answer)"
   ]
  },
  {
   "cell_type": "code",
   "execution_count": null,
   "id": "ba757914-2cb3-4a83-9ab0-15a902fda710",
   "metadata": {},
   "outputs": [],
   "source": []
  }
 ],
 "metadata": {
  "kernelspec": {
   "display_name": "Python 3",
   "language": "python",
   "name": "python3"
  },
  "language_info": {
   "codemirror_mode": {
    "name": "ipython",
    "version": 3
   },
   "file_extension": ".py",
   "mimetype": "text/x-python",
   "name": "python",
   "nbconvert_exporter": "python",
   "pygments_lexer": "ipython3",
   "version": "3.8.8"
  }
 },
 "nbformat": 4,
 "nbformat_minor": 5
}
