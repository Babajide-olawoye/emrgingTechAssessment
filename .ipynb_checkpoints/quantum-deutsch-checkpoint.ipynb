{
 "cells": [
  {
   "cell_type": "markdown",
   "id": "38a19e3e-24e6-4019-8a38-10406d4b769c",
   "metadata": {},
   "source": [
    "# Quantum computing\n",
    "\n",
    "\n",
    "# Classical computing"
   ]
  },
  {
   "cell_type": "code",
   "execution_count": null,
   "id": "95265ff8-633f-44ad-a71e-e776d65954e1",
   "metadata": {},
   "outputs": [],
   "source": []
  },
  {
   "cell_type": "code",
   "execution_count": null,
   "id": "73302189-5ea6-45cc-a091-994891c69b6f",
   "metadata": {},
   "outputs": [],
   "source": []
  }
 ],
 "metadata": {
  "kernelspec": {
   "display_name": "Python 3",
   "language": "python",
   "name": "python3"
  },
  "language_info": {
   "codemirror_mode": {
    "name": "ipython",
    "version": 3
   },
   "file_extension": ".py",
   "mimetype": "text/x-python",
   "name": "python",
   "nbconvert_exporter": "python",
   "pygments_lexer": "ipython3",
   "version": "3.8.8"
  }
 },
 "nbformat": 4,
 "nbformat_minor": 5
}
