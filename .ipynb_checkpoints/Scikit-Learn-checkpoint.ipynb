{
 "cells": [
  {
   "cell_type": "markdown",
   "id": "7a5e152d-27f2-4872-b789-779ff626c2d9",
   "metadata": {},
   "source": [
    "# Scikit-Learn Notebook"
   ]
  },
  {
   "cell_type": "markdown",
   "id": "8354be00-2a66-449c-8d15-fe3b19dc8e24",
   "metadata": {},
   "source": [
    "### Overview of scikit-learn python library\n",
    "\n",
    "What is scikit-learn? Well based on scikit-learn.org page, scikit-learn is a \"simple and effiecient tools for predictive data analysis\".  It is a free and open-source machine learning library, that supports both supervised learning algorithms and unsupervised learning algorithms. Scikit library is mostly written in Pythom, and uses NumPy for linear algebra and array operations. In my notebook I will be going through 3 scikit learn algorithms."
   ]
  },
  {
   "cell_type": "markdown",
   "id": "5265f338-2eb0-4afe-b25e-9a762af8222b",
   "metadata": {},
   "source": [
    "# 1. Algorithm \n",
    "### Recognizing hand-writteb digits with scikit-learn classification algorithm\n",
    "\n",
    "My first scikit-learn's examplar algorithm will be a classification algorithm, using the svm classifier(support vector machine). This example shows how scikit-learn's classification algorithm can be used to recognize images of hand-written digits, from 0-9.\n",
    "\n",
    "> In machine learning, classification refers to a predictive modeling problem where a class label is predicted for a given example of input data. ~ [Machine Learning Mastery](https://machinelearningmastery.com/types-of-classification-in-machine-learning/)\n",
    "\n",
    "\n",
    "\n",
    "##### Steps I used to code up the classification algorithm to recognize hand-writteb digits \n",
    "\n",
    "1. Import require packages\n",
    " - We need to import the following from the sklearn package: datasets, metrics, svm, model_selection.train_test_split\n",
    " - You can use a different classifier like (KNeighborsClassifier) but for my example I'll be using the svm\n",
    " - I also imported matplotlib.pyplot to display a selection of the hand-written data.\n",
    "\n",
    " \n",
    "2. Load/Create dataset  \n",
    " - scikit-learn has various sample dataset for the different algorithm.\n",
    " - Example Boston house prices dataset(contains varies data on Boston houseing from 1978 based on 'Hedonic prices and the demand for clean air'), Optical recognition of handwritten digits dataset(contains images of hand-written digits). \n",
    " - For this algorithm we will be using the optical recognition of handwritten digits dataset. Click [here](https://scikit-learn.org/stable/datasets/toy_dataset.html) for more details on the examplar dataset scikit-learn uses.\n",
    "\n",
    "3. Flatten the images\n",
    " - Currently each images in the dataset are a 2-D array of grayscale values (8, 8). 8,8 means that the values of the image's in arrays consist of 8 dimensions, and each dimension has 8 elements. Example array dimesion[0-7] = [1,2,3,4,5,6,7,8]\n",
    " - We need to convert each images array dimension to a singular array dimesion with 64 elements. So rather then each images having a (8,8) array they will have a singular array of 64 element.\n",
    " - We then create a new dataset for just the images value (n_samples, n_features). Where n_samples is the number of images in the dataset and n_features is the total number of pixels in each image (the reshaped singualr array)\n",
    "\n",
    "4. Create a classifier \n",
    " - The classifier we use is from the svm (support vector machine) module. \n",
    " - The svc (support vector classifier).\n",
    " - I'm using the default parameter. To learn more about the parameter click [here](https://scikit-learn.org/stable/modules/generated/sklearn.svm.SVC.html#).\n",
    " \n",
    "5. Split the data into train and test subsets\n",
    " - We do this using the train_test_split() function from sklearn.model_selection module\n",
    " - The parameter we are interested in for the train_test_split() function are arrays(arrays*: the array we want to split), test_size/train_size (float: represent the proportion of the dataset to include in the test/train split), and shuffle(Bool: whether or not to shuffle the data before splitting)\n",
    " - Arrays: the arrays I want to split are the dataset containing the flatten images, and the images labels\n",
    " - Test_size/train_size: valued between 0 - 1.0. It the fraction of the array we want as test and train. Only need to set \n",
    " - The train value will be the values that that is fitted in the classifier, whereas the test valuies are used for predictions. \n",
    "\n",
    "6. Fit the train samples in the svc\n",
    " - Do this by calling the svc.fit() function\n",
    " - the fit parameter takes in the train values: .fit(x_train, y_train)\n",
    " \n",
    "\n",
    "7. Finally use the fitted classifier to predict the value of the test subset\n",
    " - Do this by calling svc.predict() funcction\n",
    " - the predict function's parameter takes in the test values: .predict(x_test)\n",
    "\n"
   ]
  },
  {
   "cell_type": "code",
   "execution_count": 33,
   "id": "e9419aaa-1266-4956-9a0f-b0c42efa558f",
   "metadata": {
    "tags": []
   },
   "outputs": [
    {
     "name": "stdout",
     "output_type": "stream",
     "text": [
      "4 of the values fitted in the classifiers\n"
     ]
    },
    {
     "data": {
      "image/png": "[encoded data removed]",
      "text/plain": [
       "<Figure size 720x216 with 5 Axes>"
      ]
     },
     "metadata": {
      "needs_background": "light"
     },
     "output_type": "display_data"
    }
   ],
   "source": [
    "# Import datasets, classifiers and performance metrics\n",
    "from sklearn import datasets, svm, metrics\n",
    "from sklearn.neighbors import KNeighborsClassifier\n",
    "from sklearn.model_selection import train_test_split\n",
    "import matplotlib.pyplot as plt\n",
    "\n",
    "#Load digit is a sample dataset, now stored in digi variable\n",
    "digi = datasets.load_digits()\n",
    "\n",
    "# flatten the images\n",
    "n_samples = len(digi.images)\n",
    "\n",
    "data = digi.images.reshape((n_samples, -1))\n",
    "\n",
    "\n",
    "\n",
    "# Create a classifier: a support vector classifier\n",
    "clf = svm.SVC()\n",
    "\n",
    "#Kclf = KNeighborsClassifier(n_neighbors=1)\n",
    "\n",
    "\n",
    "\n",
    "# Split data into 50% train and 50% test subsets\n",
    "X_train, X_test, y_train, y_test = train_test_split(\n",
    "    data, digi.target, test_size=0.5, shuffle=False)\n",
    "\n",
    "\n",
    "\n",
    "# Learn the digits on the train subset\n",
    "clf.fit(X_train, y_train)\n",
    "\n",
    "# Value fitted in the classifiers  \n",
    "\n",
    "print('4 of the values fitted in the classifiers')\n",
    "_, axes = plt.subplots(nrows=1, ncols=5, figsize=(10, 3))\n",
    "for ax, image, label in zip(axes, X_train, y_train ):\n",
    "    ax.set_axis_off()\n",
    "    image = image.reshape(8, 8)\n",
    "    ax.imshow(image, cmap=plt.cm.gray_r, interpolation='nearest')\n",
    "    ax.set_title('Labelled as : %i' % label,  fontsize = 5)\n",
    "\n",
    "    \n",
    "\n",
    "\n",
    "\n"
   ]
  },
  {
   "cell_type": "code",
   "execution_count": 34,
   "id": "5048f22b-2be9-4bd2-97ac-1ac364695cfd",
   "metadata": {},
   "outputs": [
    {
     "name": "stdout",
     "output_type": "stream",
     "text": [
      "0.9610678531701891\n",
      "The total number of correctly predicted value is: 864 out of 899 datas \n",
      "\n",
      "\n"
     ]
    },
    {
     "data": {
      "image/png": "[encoded data removed]",
      "text/plain": [
       "<Figure size 720x216 with 5 Axes>"
      ]
     },
     "metadata": {
      "needs_background": "light"
     },
     "output_type": "display_data"
    }
   ],
   "source": [
    "# Predict the value of the digit on the test subset\n",
    "predicted = clf.predict(X_test)\n",
    "#Kprediction = Kclf.predict(X_test)\n",
    "\n",
    "\n",
    "\n",
    "\n",
    "_, axes = plt.subplots(nrows=1, ncols=5, figsize=(10, 3))\n",
    "for ax, image, label, target in zip(axes, X_test, predicted, y_test ):\n",
    "    ax.set_axis_off()\n",
    "    image = image.reshape(8, 8)\n",
    "    ax.imshow(image, cmap=plt.cm.gray_r, interpolation='nearest')\n",
    "    ax.set_title('Predicted: %i \\n Target: %i' % (label, target),  fontsize = 5)\n",
    "\n",
    "    \n",
    "\n",
    "\n",
    "# Predictions analyzes\n",
    "# This returns a fraction in decimals of the correctly of samples\n",
    "print(metrics.accuracy_score(predicted, y_test))\n",
    "#print(metrics.accuracy_score(KNN_prediction, y_test))\n",
    "\n",
    "print('The total number of correctly predicted value is: %d out of %d datas \\n\\n' % (metrics.accuracy_score(predicted, y_test, normalize = False),  len(y_test)))\n",
    "\n"
   ]
  },
  {
   "cell_type": "markdown",
   "id": "8f02499f-379a-4f58-b2c2-fbda2d556c07",
   "metadata": {},
   "source": [
    "### Classifcaion report"
   ]
  },
  {
   "cell_type": "code",
   "execution_count": 35,
   "id": "265e0d25-7f87-412c-bc0a-202d111f30c4",
   "metadata": {},
   "outputs": [
    {
     "name": "stdout",
     "output_type": "stream",
     "text": [
      "              precision    recall  f1-score   support\n",
      "\n",
      "           0       0.99      0.99      0.99        88\n",
      "           1       0.97      0.97      0.97        91\n",
      "           2       0.98      1.00      0.99        84\n",
      "           3       0.87      0.98      0.92        81\n",
      "           4       0.96      0.99      0.97        89\n",
      "           5       0.97      0.93      0.95        95\n",
      "           6       0.99      0.99      0.99        91\n",
      "           7       0.99      0.95      0.97        93\n",
      "           8       0.95      0.92      0.94        91\n",
      "           9       0.96      0.92      0.94        96\n",
      "\n",
      "    accuracy                           0.96       899\n",
      "   macro avg       0.96      0.96      0.96       899\n",
      "weighted avg       0.96      0.96      0.96       899\n",
      "\n"
     ]
    }
   ],
   "source": [
    "print(metrics.classification_report(predicted, y_test))"
   ]
  },
  {
   "cell_type": "markdown",
   "id": "6aa153b7-dfc2-48ba-873d-a73ccfeef1f3",
   "metadata": {
    "tags": []
   },
   "source": [
    "Above we have the report of the prediction for the examplar dataset \n",
    "\n",
    "> \"***Precision*** is defined as the fraction of relevant instances among all retrieved instances. ***Recall***, sometimes referred to as ‘sensitivity, is the fraction of retrieved instances among all relevant instances. A perfect classifier has precision and recall both equal to 1.\" ~ [DeepAI](https://deepai.org/machine-learning-glossary-and-terms/precision-and-recall)\n",
    "\n",
    "\n",
    "Precision - in terms of scikit-learn, the precision value resulted from the classifier correctly identify a sample data as positive or negative. <br/>\n",
    "Recall - in terms of scikit-learn, the recall value result from the classifier idemtiying all the positive sample. <br/>\n",
    "F1-score - the harmonic means of recall and precision. The highest possible value to get is a 1, which is a perfect value and the lowest possible value is 0. 1 indicates a that the precision and recall both have  a value of 1 and 0 indicates either recall/precision have a 0 value. \n",
    "<br/>\n",
    "\n",
    "\n",
    "\n",
    "\n",
    "\n"
   ]
  },
  {
   "cell_type": "markdown",
   "id": "9597fada-cdfb-4899-97c3-9652bfd531b7",
   "metadata": {},
   "source": [
    "# 2. Algorithm \n",
    "### Automatic grouping of similar objects into sets using SciKit-Learn's clustering algorithm.\n",
    "\n",
    "> Cluster analysis or clustering is the task of grouping a set of objects in such a way that objects in the same group (called a cluster) are more similar (in some sense) to each other than to those in other groups (clusters). It is a main task of exploratory data analysis, and a common technique for statistical data analysis, used in many fields, including pattern recognition, image analysis, information retrieval, bioinformatics, data compression, computer graphics and machine learning. ~ [Wikipedia](https://en.wikipedia.org/wiki/Cluster_analysis)\n",
    "\n",
    "\n",
    "##### Run down of code below\n",
    "\n",
    "\n",
    "1. Import require packages\n",
    " \n",
    "2. Load/Create dataset  \n",
    " - Look at .... for more details\n",
    " \n",
    "3. Flatten the images\n",
    " -  Look at .... for more details\n",
    "\n",
    "4. Create a connectivity matrix\n",
    " - A connective matrix is a matrix that represent whether or not a list of a pair of nodes are connected.\n",
    " - In our case we are getting the connection matrix of the an image pixel pairs\n",
    " - The matrix size will be 64x64 and a value of 1 are giving to the pair that are connected\n",
    " \n",
    "5. \n"
   ]
  },
  {
   "cell_type": "code",
   "execution_count": 6,
   "id": "1c044baa-eedb-47bc-8ffd-068ac99cddd0",
   "metadata": {
    "tags": []
   },
   "outputs": [
    {
     "name": "stdout",
     "output_type": "stream",
     "text": [
      "  (0, 1)\t1\n",
      "  (1, 2)\t1\n",
      "  (2, 3)\t1\n",
      "  (3, 4)\t1\n",
      "  (4, 5)\t1\n",
      "  (5, 6)\t1\n",
      "  (6, 7)\t1\n",
      "  (8, 9)\t1\n",
      "  (9, 10)\t1\n",
      "  (10, 11)\t1\n",
      "  (11, 12)\t1\n",
      "  (12, 13)\t1\n",
      "  (13, 14)\t1\n",
      "  (14, 15)\t1\n",
      "  (16, 17)\t1\n",
      "  (17, 18)\t1\n",
      "  (18, 19)\t1\n",
      "  (19, 20)\t1\n",
      "  (20, 21)\t1\n",
      "  (21, 22)\t1\n",
      "  (22, 23)\t1\n",
      "  (24, 25)\t1\n",
      "  (25, 26)\t1\n",
      "  (26, 27)\t1\n",
      "  (27, 28)\t1\n",
      "  :\t:\n",
      "  (39, 39)\t1\n",
      "  (40, 40)\t1\n",
      "  (41, 41)\t1\n",
      "  (42, 42)\t1\n",
      "  (43, 43)\t1\n",
      "  (44, 44)\t1\n",
      "  (45, 45)\t1\n",
      "  (46, 46)\t1\n",
      "  (47, 47)\t1\n",
      "  (48, 48)\t1\n",
      "  (49, 49)\t1\n",
      "  (50, 50)\t1\n",
      "  (51, 51)\t1\n",
      "  (52, 52)\t1\n",
      "  (53, 53)\t1\n",
      "  (54, 54)\t1\n",
      "  (55, 55)\t1\n",
      "  (56, 56)\t1\n",
      "  (57, 57)\t1\n",
      "  (58, 58)\t1\n",
      "  (59, 59)\t1\n",
      "  (60, 60)\t1\n",
      "  (61, 61)\t1\n",
      "  (62, 62)\t1\n",
      "  (63, 63)\t1\n"
     ]
    }
   ],
   "source": [
    "import numpy as np\n",
    "import matplotlib.pyplot as plt\n",
    "\n",
    "from sklearn import datasets, cluster\n",
    "from sklearn.feature_extraction.image import grid_to_graph\n",
    "\n",
    "digits = datasets.load_digits()\n",
    "images = digits.images\n",
    "\n",
    "X = np.reshape(images, (len(images), -1))\n",
    "connectivity = grid_to_graph(*images[0].shape)\n",
    "\n",
    "print(connectivity)\n",
    "\n",
    "\n",
    "agglo = cluster.FeatureAgglomeration(connectivity=connectivity, n_clusters=32)\n",
    "\n",
    "# agglo.fit(X)\n",
    "# X_reduced = agglo.transform(X)\n",
    "\n",
    "# X_restored = agglo.inverse_transform(X_reduced)\n",
    "# images_restored = np.reshape(X_restored, images.shape)\n",
    "# plt.figure(1, figsize=(4, 3.5))\n",
    "# plt.clf()\n",
    "# plt.subplots_adjust(left=0.01, right=0.99, bottom=0.01, top=0.91)\n",
    "# for i in range(4):\n",
    "#     plt.subplot(3, 4, i + 1)\n",
    "#     plt.imshow(images[i], cmap=plt.cm.gray, vmax=16, interpolation=\"nearest\")\n",
    "#     plt.xticks(())\n",
    "#     plt.yticks(())\n",
    "#     if i == 1:\n",
    "#         plt.title(\"Original data\")\n",
    "#     plt.subplot(3, 4, 4 + i + 1)\n",
    "#     plt.imshow(images_restored[i], cmap=plt.cm.gray, vmax=16, interpolation=\"nearest\")\n",
    "#     if i == 1:\n",
    "#         plt.title(\"Agglomerated data\")\n",
    "#     plt.xticks(())\n",
    "#     plt.yticks(())\n",
    "\n",
    "# plt.subplot(3, 4, 10)\n",
    "# plt.imshow(\n",
    "#     np.reshape(agglo.labels_, images[0].shape),\n",
    "#     interpolation=\"nearest\",\n",
    "#     cmap=plt.cm.nipy_spectral,\n",
    "# )\n",
    "# plt.xticks(())\n",
    "# plt.yticks(())\n",
    "# plt.title(\"Labels\")\n",
    "# plt.show()"
   ]
  },
  {
   "cell_type": "markdown",
   "id": "fae13b99-fb50-4de0-bf27-b07a1ca59aee",
   "metadata": {},
   "source": [
    "\n",
    "\n",
    "\n",
    "3. Algorithm 3"
   ]
  }
 ],
 "metadata": {
  "kernelspec": {
   "display_name": "Python 3",
   "language": "python",
   "name": "python3"
  },
  "language_info": {
   "codemirror_mode": {
    "name": "ipython",
    "version": 3
   },
   "file_extension": ".py",
   "mimetype": "text/x-python",
   "name": "python",
   "nbconvert_exporter": "python",
   "pygments_lexer": "ipython3",
   "version": "3.8.8"
  }
 },
 "nbformat": 4,
 "nbformat_minor": 5
}
