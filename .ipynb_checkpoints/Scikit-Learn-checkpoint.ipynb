{
 "cells": [
  {
   "cell_type": "markdown",
   "id": "7a5e152d-27f2-4872-b789-779ff626c2d9",
   "metadata": {},
   "source": [
    "# Scikit-Learn Notebook"
   ]
  },
  {
   "cell_type": "markdown",
   "id": "8354be00-2a66-449c-8d15-fe3b19dc8e24",
   "metadata": {},
   "source": [
    "### Overview of scikit-learn python library\n",
    "\n",
    "What is scikit-learn? Well based on scikit-learn.org page, scikit-learn is a \"simple and effiecient tools for predictive data analysis\".  It is a free and open-source machine learning library, that supports both supervised learning algorithms and unsupervised learning algorithms. Scikit library is mostly written in Pythom, and uses NumPy for linear algebra and array operations. In my notebook I will be going through 3 scikit learn algorithms."
   ]
  },
  {
   "cell_type": "markdown",
   "id": "5265f338-2eb0-4afe-b25e-9a762af8222b",
   "metadata": {},
   "source": [
    "# 1. Algorithm \n",
    "### Recognizing hand-writteb digits with scikit-learn classification algorithm\n",
    "\n",
    "My first scikit-learn's examplar algorithm will be a classification algorithm, using the svm classifier(support vector machine). This example shows how scikit-learn's classification algorithm can be used to recognize images of hand-written digits, from 0-9.\n",
    "\n",
    "> In machine learning, classification refers to a predictive modeling problem where a class label is predicted for a given example of input data. ~ [Machine Learning Mastery](https://machinelearningmastery.com/types-of-classification-in-machine-learning/)\n",
    "\n",
    "\n",
    "\n",
    "##### Steps I used to code up the classification algorithm to recognize hand-writteb digits \n",
    "\n",
    "1. Import require packages\n",
    " - We need to import the following from the sklearn package: datasets, metrics, svm, model_selection.train_test_split\n",
    " - You can use a different classifier like (KNeighborsClassifier) but for my example I'll be using the svm\n",
    " - I also imported matplotlib.pyplot to display a selection of the hand-written data.\n",
    "\n",
    " \n",
    "2. Load/Create dataset  \n",
    " - scikit-learn has various sample dataset for the different algorithm.\n",
    " - Example Boston house prices dataset(contains varies data on Boston houseing from 1978 based on 'Hedonic prices and the demand for clean air'), Optical recognition of handwritten digits dataset(contains images of hand-written digits). \n",
    " - For this algorithm we will be using the optical recognition of handwritten digits dataset. Click [here](https://scikit-learn.org/stable/datasets/toy_dataset.html) for more details on the examplar dataset scikit-learn uses.\n",
    "\n",
    "3. Flatten the images\n",
    " - Currently each images in the dataset are a 2-D array of grayscale values (8, 8). 8,8 means that the values of the image's in arrays consist of 8 dimensions, and each dimension has 8 elements. Example array dimesion[0-7] = [1,2,3,4,5,6,7,8]\n",
    " - We need to convert each images array dimension to a singular array dimesion with 64 elements. So rather then each images having a (8,8) array they will have a singular array of 64 element.\n",
    " - We then create a new dataset for just the images value (n_samples, n_features). Where n_samples is the number of images in the dataset and n_features is the total number of pixels in each image (the reshaped singualr array)\n",
    "\n",
    "4. Create a classifier \n",
    " - The classifier we use is from the svm (support vector machine) module. \n",
    " - The svc (support vector classifier).\n",
    " - I'm using the default parameter. To learn more about the parameter click [here](https://scikit-learn.org/stable/modules/generated/sklearn.svm.SVC.html#).\n",
    " \n",
    "5. Split the data into train and test subsets\n",
    " - We do this using the train_test_split() function from sklearn.model_selection module\n",
    " - The parameter we are interested in for the train_test_split() function are arrays(arrays*: the array we want to split), test_size/train_size (float: represent the proportion of the dataset to include in the test/train split), and shuffle(Bool: whether or not to shuffle the data before splitting)\n",
    " - Arrays: the arrays I want to split are the dataset containing the flatten images, and the images labels\n",
    " - Test_size/train_size: valued between 0 - 1.0. It the fraction of the array we want as test and train. Only need to set \n",
    " - The train value will be the values that that is fitted in the classifier, whereas the test valuies are used for predictions. \n",
    "\n",
    "6. Fit the train samples in the svc\n",
    " - Do this by calling the svc.fit() function\n",
    " - the fit parameter takes in the train values: .fit(x_train, y_train)\n",
    " \n",
    "\n",
    "7. Finally use the fitted classifier to predict the value of the test subset\n",
    " - Do this by calling svc.predict() funcction\n",
    " - the predict function's parameter takes in the test values: .predict(x_test)\n",
    "\n"
   ]
  },
  {
   "cell_type": "code",
   "execution_count": 1,
   "id": "e9419aaa-1266-4956-9a0f-b0c42efa558f",
   "metadata": {
    "tags": []
   },
   "outputs": [],
   "source": [
    "# 1. Import datasets, classifiers and performance metrics\n",
    "from sklearn import datasets, svm, metrics\n",
    "from sklearn.neighbors import KNeighborsClassifier\n",
    "from sklearn.model_selection import train_test_split\n",
    "import matplotlib.pyplot as plt"
   ]
  },
  {
   "cell_type": "code",
   "execution_count": 14,
   "id": "672b13ef-fe1f-4c78-9e55-72bee461c114",
   "metadata": {},
   "outputs": [
    {
     "name": "stdout",
     "output_type": "stream",
     "text": [
      "The size of Load Digit dataset is 7 \n",
      "The dataset contains the following Data, target, target_names, frame, feature_names, images, DESC\n"
     ]
    }
   ],
   "source": [
    "# 2. Load digit is a sample dataset, now stored in digi variable\n",
    "digi = datasets.load_digits()\n",
    "\n",
    "\n",
    "print(\"The size of Load Digit dataset is %i \" % len(digi))\n",
    "print(\"The dataset contains the following Data, target, target_names, frame, feature_names, images, DESC\")"
   ]
  },
  {
   "cell_type": "code",
   "execution_count": 23,
   "id": "afc9c0c1-92d2-40aa-b059-5b60a150fbd4",
   "metadata": {},
   "outputs": [
    {
     "name": "stdout",
     "output_type": "stream",
     "text": [
      "New shape of load_digits() images data \n",
      "(1797, 64)\n"
     ]
    }
   ],
   "source": [
    "# 3. flatten the images\n",
    "n_samples = len(digi.images)\n",
    "data = digi.images.reshape((n_samples, -1))\n",
    "\n",
    "print(\"New shape of load_digits() images data \" )\n",
    "print(data.shape)"
   ]
  },
  {
   "cell_type": "code",
   "execution_count": 24,
   "id": "cd13e18c-efc5-49ba-86bf-4c9112e6d673",
   "metadata": {},
   "outputs": [],
   "source": [
    "# 4. Create a classifier: a support vector classifier\n",
    "clf = svm.SVC()\n"
   ]
  },
  {
   "cell_type": "code",
   "execution_count": 25,
   "id": "f9963f23-c77d-4c29-b72b-f504f6819c97",
   "metadata": {},
   "outputs": [],
   "source": [
    "# 5. Split data into 50% train and 50% test subsets\n",
    "X_train, X_test, y_train, y_test = train_test_split(\n",
    "    data, digi.target, test_size=0.5, shuffle=False)"
   ]
  },
  {
   "cell_type": "code",
   "execution_count": 26,
   "id": "4650296a-6d24-49ec-b591-edf7a103941c",
   "metadata": {},
   "outputs": [
    {
     "name": "stdout",
     "output_type": "stream",
     "text": [
      "4 of the values fitted in the classifiers\n"
     ]
    },
    {
     "data": {
      "image/png": "[encoded data removed]",
      "text/plain": [
       "<Figure size 720x216 with 5 Axes>"
      ]
     },
     "metadata": {
      "needs_background": "light"
     },
     "output_type": "display_data"
    }
   ],
   "source": [
    "# 6. Learn the digits on the train subset\n",
    "clf.fit(X_train, y_train)\n",
    "\n",
    "# Value fitted in the classifiers  \n",
    "\n",
    "print('4 of the values fitted in the classifiers')\n",
    "_, axes = plt.subplots(nrows=1, ncols=5, figsize=(10, 3))\n",
    "for ax, image, label in zip(axes, X_train, y_train ):\n",
    "    ax.set_axis_off()\n",
    "    image = image.reshape(8, 8)\n",
    "    ax.imshow(image, cmap=plt.cm.gray_r, interpolation='nearest')\n",
    "    ax.set_title('Labelled as : %i' % label,  fontsize = 5)"
   ]
  },
  {
   "cell_type": "code",
   "execution_count": 34,
   "id": "5048f22b-2be9-4bd2-97ac-1ac364695cfd",
   "metadata": {},
   "outputs": [
    {
     "name": "stdout",
     "output_type": "stream",
     "text": [
      "0.9610678531701891\n",
      "The total number of correctly predicted value is: 864 out of 899 datas \n",
      "\n",
      "\n"
     ]
    },
    {
     "data": {
      "image/png": "[encoded data removed]",
      "text/plain": [
       "<Figure size 720x216 with 5 Axes>"
      ]
     },
     "metadata": {
      "needs_background": "light"
     },
     "output_type": "display_data"
    }
   ],
   "source": [
    "# 7. Predict the value of the digit on the test subset\n",
    "predicted = clf.predict(X_test)\n",
    "#Kprediction = Kclf.predict(X_test)\n",
    "\n",
    "\n",
    "\n",
    "_, axes = plt.subplots(nrows=1, ncols=5, figsize=(10, 3))\n",
    "for ax, image, label, target in zip(axes, X_test, predicted, y_test ):\n",
    "    ax.set_axis_off()\n",
    "    image = image.reshape(8, 8)\n",
    "    ax.imshow(image, cmap=plt.cm.gray_r, interpolation='nearest')\n",
    "    ax.set_title('Predicted: %i \\n Target: %i' % (label, target),  fontsize = 5)\n",
    "\n",
    "    \n",
    "\n",
    "\n",
    "# Predictions analyzes\n",
    "# This returns a fraction in decimals of the correctly of samples\n",
    "print(metrics.accuracy_score(predicted, y_test))\n",
    "#print(metrics.accuracy_score(KNN_prediction, y_test))\n",
    "\n",
    "print('The total number of correctly predicted value is: %d out of %d datas \\n\\n' % (metrics.accuracy_score(predicted, y_test, normalize = False),  len(y_test)))\n",
    "\n"
   ]
  },
  {
   "cell_type": "markdown",
   "id": "8f02499f-379a-4f58-b2c2-fbda2d556c07",
   "metadata": {},
   "source": [
    "### Classifcaion report"
   ]
  },
  {
   "cell_type": "code",
   "execution_count": 35,
   "id": "265e0d25-7f87-412c-bc0a-202d111f30c4",
   "metadata": {},
   "outputs": [
    {
     "name": "stdout",
     "output_type": "stream",
     "text": [
      "              precision    recall  f1-score   support\n",
      "\n",
      "           0       0.99      0.99      0.99        88\n",
      "           1       0.97      0.97      0.97        91\n",
      "           2       0.98      1.00      0.99        84\n",
      "           3       0.87      0.98      0.92        81\n",
      "           4       0.96      0.99      0.97        89\n",
      "           5       0.97      0.93      0.95        95\n",
      "           6       0.99      0.99      0.99        91\n",
      "           7       0.99      0.95      0.97        93\n",
      "           8       0.95      0.92      0.94        91\n",
      "           9       0.96      0.92      0.94        96\n",
      "\n",
      "    accuracy                           0.96       899\n",
      "   macro avg       0.96      0.96      0.96       899\n",
      "weighted avg       0.96      0.96      0.96       899\n",
      "\n"
     ]
    }
   ],
   "source": [
    "print(metrics.classification_report(predicted, y_test))"
   ]
  },
  {
   "cell_type": "markdown",
   "id": "6aa153b7-dfc2-48ba-873d-a73ccfeef1f3",
   "metadata": {
    "tags": []
   },
   "source": [
    "Above we have the report of the prediction for the examplar dataset \n",
    "\n",
    "> \"***Precision*** is defined as the fraction of relevant instances among all retrieved instances. ***Recall***, sometimes referred to as ‘sensitivity, is the fraction of retrieved instances among all relevant instances. A perfect classifier has precision and recall both equal to 1.\" ~ [DeepAI](https://deepai.org/machine-learning-glossary-and-terms/precision-and-recall)\n",
    "\n",
    "\n",
    "Precision - in terms of scikit-learn, the precision value resulted from the classifier correctly identify a sample data as positive or negative. <br/>\n",
    "Recall - in terms of scikit-learn, the recall value result from the classifier idemtiying all the positive sample. <br/>\n",
    "F1-score - the harmonic means of recall and precision. The highest possible value to get is a 1, which is a perfect value and the lowest possible value is 0. 1 indicates a that the precision and recall both have  a value of 1 and 0 indicates either recall/precision have a 0 value. \n",
    "<br/>\n",
    "\n",
    "\n",
    "\n",
    "\n",
    "\n"
   ]
  },
  {
   "cell_type": "markdown",
   "id": "9597fada-cdfb-4899-97c3-9652bfd531b7",
   "metadata": {},
   "source": [
    "# 2. Algorithm \n",
    "### Automatic grouping of similar objects into sets using SciKit-Learn's clustering algorithm.\n",
    "\n",
    "> Cluster analysis or clustering is the task of grouping a set of objects in such a way that objects in the same group (called a cluster) are more similar (in some sense) to each other than to those in other groups (clusters). It is a main task of exploratory data analysis, and a common technique for statistical data analysis, used in many fields, including pattern recognition, image analysis, information retrieval, bioinformatics, data compression, computer graphics and machine learning. ~ [Wikipedia](https://en.wikipedia.org/wiki/Cluster_analysis)\n",
    "\n",
    "\n",
    "##### Run down of code below\n",
    "\n",
    "\n",
    "1. Import require packages\n",
    " - sklearn.datasets\n",
    " - pandas\n",
    " - matplotlib.pyplot\n",
    " \n",
    "2. Load/Create dataset  \n",
    " - Using Iris dataset\n",
    " \n",
    "\n",
    "3. Implement the FeatureAgglomeration method\n",
    " - it implements the hierarchical clustering algorithm \n",
    " - this method also applys a transform method that is used to reduce similar features\n",
    " - this result in the reduction in numbers of features\n",
    "\n",
    "4. Fit and transform the data onto the cluster\n",
    "\n",
    "5. Plot on graph\n"
   ]
  },
  {
   "cell_type": "code",
   "execution_count": 31,
   "id": "e172dd86-c48e-4136-ad24-cd856278c301",
   "metadata": {
    "tags": []
   },
   "outputs": [],
   "source": [
    "# 1. from sklearn.cluster import FeatureAgglomeration\n",
    "from sklearn import datasets\n",
    "import pandas as pd\n",
    "import matplotlib.pyplot as plt"
   ]
  },
  {
   "cell_type": "code",
   "execution_count": 30,
   "id": "5226f513-8071-4bf9-9f3e-e231309fa7b3",
   "metadata": {},
   "outputs": [
    {
     "ename": "SyntaxError",
     "evalue": "invalid syntax (<ipython-input-30-bea3b841354a>, line 1)",
     "output_type": "error",
     "traceback": [
      "\u001b[1;36m  File \u001b[1;32m\"<ipython-input-30-bea3b841354a>\"\u001b[1;36m, line \u001b[1;32m1\u001b[0m\n\u001b[1;33m    **()\u001b[0m\n\u001b[1;37m    ^\u001b[0m\n\u001b[1;31mSyntaxError\u001b[0m\u001b[1;31m:\u001b[0m invalid syntax\n"
     ]
    }
   ],
   "source": [
    "# 2. Load dataset: Using Iris dataset\n",
    "iris = datasets.load_iris()\n",
    "data = iris.data\n",
    "\n",
    "\n",
    "# 3. Implementing the FeatureAgglomeration method\n",
    "agglo=FeatureAgglomeration(n_clusters=2);\n",
    "\n",
    "# 4 Fit and transform the data onto the cluster\n",
    "X = agglo.fit_transform(data);\n",
    "\n",
    "\n",
    "# 5. plotting\n",
    "color=[]\n",
    "for i in range (len(data)):\n",
    "    if i <= 49 :\n",
    "        color.append('g')\n",
    "    if  (i >= 50 and i <=99):\n",
    "        color.append('b')\n",
    "    if i >= 100 :\n",
    "        color.append('r')\n",
    "plt.scatter(agglo[:,0],agglo[:,1],c=color)\n",
    "plt.show()\n",
    "\n",
    "plt.scatter(data[:,1], data[:,0], c=color)\n",
    "plt.show()\n"
   ]
  },
  {
   "cell_type": "markdown",
   "id": "fae13b99-fb50-4de0-bf27-b07a1ca59aee",
   "metadata": {},
   "source": [
    "# 3. Algorithm \n",
    "\n",
    "\n",
    "### Using a survey dataset to predict the popularity of dance music depending with SciKit Learn's regression algoritm. PoissonRegressor \n",
    "\n",
    "\n"
   ]
  },
  {
   "cell_type": "code",
   "execution_count": 206,
   "id": "071916df-5b3e-4078-94fb-6c1f3df12c1a",
   "metadata": {},
   "outputs": [
    {
     "name": "stdout",
     "output_type": "stream",
     "text": [
      "(1010,)\n",
      "True\n"
     ]
    },
    {
     "data": {
      "text/plain": [
       "False"
      ]
     },
     "execution_count": 206,
     "metadata": {},
     "output_type": "execute_result"
    }
   ],
   "source": [
    "#Import \n",
    "import numpy as np\n",
    "import matplotlib.pyplot as plt\n",
    "import pandas as pd\n",
    "from sklearn.model_selection import train_test_split\n",
    "\n",
    "from sklearn.linear_model import PoissonRegressor\n",
    "from sklearn.pipeline import Pipeline\n",
    "from sklearn import metrics\n",
    "\n",
    "\n",
    "survey_Response = pd.read_csv(\"./datasets/responses.csv\")\n",
    "\n",
    "print(survey_Response.Dance.shape)\n",
    "\n",
    "\n",
    "dance_Response = survey_Response.Dance[:-807]\n",
    "age = survey_Response.Age[:-807]\n",
    "\n",
    "\n",
    "\n",
    "dance_Response.shape\n",
    "age.shape\n",
    "\n",
    "#print(age)\n",
    "dataset = pd.DataFrame({'Age' : age.array, 'Dance rating' : dance_Response.array})\n",
    "dataset.shape\n",
    "\n",
    "#Removing all null value from daataset\n",
    "print(dataset.isnull().values.any())\n",
    "dataset = dataset.dropna(axis=0, how=\"any\", thresh=None, subset=None, inplace=False)\n",
    "\n",
    "#Check if theie is any null value - false means no\n",
    "dataset.isnull().values.any()\n",
    "\n",
    "\n"
   ]
  },
  {
   "cell_type": "code",
   "execution_count": 214,
   "id": "7685c959-84b7-47ca-9f14-896391fd35e9",
   "metadata": {},
   "outputs": [],
   "source": [
    "train,test=train_test_split(dataset, train_size = .8,random_state =1)\n",
    "\n"
   ]
  },
  {
   "cell_type": "code",
   "execution_count": 215,
   "id": "e08dae98-c94b-4fd0-99fc-7fc696bce8b0",
   "metadata": {},
   "outputs": [
    {
     "name": "stdout",
     "output_type": "stream",
     "text": [
      "(160, 1)\n",
      "(160,)\n",
      "(40, 1)\n",
      "(40,)\n"
     ]
    }
   ],
   "source": [
    "# defining X and y for model training and test\n",
    "X_train = train.Age.values.reshape(-1, 1)\n",
    "y_train = train['Dance rating']\n",
    "\n",
    "print(X_train.shape)\n",
    "print(y_train.shape)\n",
    "\n",
    "\n",
    "X_test = test.Age.values.reshape(-1, 1)\n",
    "y_test = test['Dance rating']\n",
    "\n",
    "print(X_test.shape)\n",
    "print(y_test.shape)"
   ]
  },
  {
   "cell_type": "code",
   "execution_count": 216,
   "id": "cda7325d-b270-4ed4-af7b-c85964bc290a",
   "metadata": {},
   "outputs": [
    {
     "data": {
      "text/plain": [
       "-0.00733738064698608"
      ]
     },
     "execution_count": 216,
     "metadata": {},
     "output_type": "execute_result"
    }
   ],
   "source": [
    "pipeline_Model = Pipeline([('model', PoissonRegressor())])\n",
    "pipeline_Model.fit(X_train, y_train)\n",
    "predicted_Test = pipeline_Model.predict(X_test)\n",
    "r2_test = metrics.r2_score(y_test, y_pred)\n",
    "\n",
    "r2_test"
   ]
  },
  {
   "cell_type": "code",
   "execution_count": 217,
   "id": "740de1b0-ec39-439b-8f85-812776f3e63f",
   "metadata": {},
   "outputs": [
    {
     "data": {
      "text/plain": [
       "0.0001271093092529707"
      ]
     },
     "execution_count": 217,
     "metadata": {},
     "output_type": "execute_result"
    }
   ],
   "source": [
    "predicted_Train = pipeline_Model.predict(X_train)\n",
    "r2_train = metrics.r2_score(y_train, predicted_Train)\n",
    "r2_train"
   ]
  },
  {
   "cell_type": "code",
   "execution_count": 218,
   "id": "386ec9cb-f830-42f3-9cbd-0fca14ccf1d8",
   "metadata": {},
   "outputs": [
    {
     "data": {
      "image/png": "[encoded data removed]",
      "text/plain": [
       "<Figure size 1440x576 with 1 Axes>"
      ]
     },
     "metadata": {
      "needs_background": "light"
     },
     "output_type": "display_data"
    }
   ],
   "source": [
    "\n",
    "fig, ax = plt.subplots(figsize=(20,8))\n",
    "plt.grid()\n",
    "ax.set_ylabel(\"Dance music ratings\")                                \n",
    "ax.set_xlabel(\"Age\")\n",
    "# train data in blue\n",
    "ax.scatter(X_train, y_train)\n",
    "ax.plot(X_train, predicted_Train, color='red')\n",
    "\n",
    "plt.show()"
   ]
  }
 ],
 "metadata": {
  "kernelspec": {
   "display_name": "Python 3",
   "language": "python",
   "name": "python3"
  },
  "language_info": {
   "codemirror_mode": {
    "name": "ipython",
    "version": 3
   },
   "file_extension": ".py",
   "mimetype": "text/x-python",
   "name": "python",
   "nbconvert_exporter": "python",
   "pygments_lexer": "ipython3",
   "version": "3.8.8"
  }
 },
 "nbformat": 4,
 "nbformat_minor": 5
}
