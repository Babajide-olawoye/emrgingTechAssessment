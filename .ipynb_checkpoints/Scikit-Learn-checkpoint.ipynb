{
 "cells": [
  {
   "cell_type": "markdown",
   "id": "7a5e152d-27f2-4872-b789-779ff626c2d9",
   "metadata": {},
   "source": [
    "# Overview of the Scikit-Learn"
   ]
  },
  {
   "cell_type": "markdown",
   "id": "5265f338-2eb0-4afe-b25e-9a762af8222b",
   "metadata": {},
   "source": [
    "###Recognizing hand-writteb digits with scikit-learn"
   ]
  },
  {
   "cell_type": "code",
   "execution_count": null,
   "id": "318c053b-0a59-4e23-9ab5-be2c16f6d34a",
   "metadata": {},
   "outputs": [],
   "source": [
    "# Import datasets, classifiers and performance metrics\n",
    "from sklearn import datasets, svm, metrics\n",
    "from sklearn.model_selection import train_test_split\n",
    "\n",
    "#Load digit is a sample dataset, now stored in digi variable\n",
    "digi = datasets.load_digits()\n",
    "print(\"Image Data Shape\" , digi.data.shape)"
   ]
  },
  {
   "cell_type": "code",
   "execution_count": 17,
   "id": "ac853209-b27d-4097-9b09-6dbbc93d3417",
   "metadata": {},
   "outputs": [
    {
     "data": {
      "image/png": "[encoded data removed]",
      "text/plain": [
       "<Figure size 720x216 with 10 Axes>"
      ]
     },
     "metadata": {
      "needs_background": "light"
     },
     "output_type": "display_data"
    }
   ],
   "source": [
    "import numpy as np \n",
    "import matplotlib.pyplot as plt\n",
    "\n",
    "_, axes = plt.subplots(nrows=1, ncols=10, figsize=(10, 3))\n",
    "for ax, image, label in zip(axes, digi.images, digi.target):\n",
    "    ax.set_axis_off()\n",
    "    ax.imshow(image, cmap=plt.cm.gray_r, interpolation='nearest')\n",
    "    ax.set_title('Data: %i' % label,  fontsize = 5)"
   ]
  },
  {
   "cell_type": "markdown",
   "id": "fae13b99-fb50-4de0-bf27-b07a1ca59aee",
   "metadata": {},
   "source": [
    "1. Algorithm \n",
    "\n",
    "2. Algorithm 2\n",
    "\n",
    "3. Algorithm 3"
   ]
  },
  {
   "cell_type": "code",
   "execution_count": null,
   "id": "265e0d25-7f87-412c-bc0a-202d111f30c4",
   "metadata": {},
   "outputs": [],
   "source": []
  },
  {
   "cell_type": "code",
   "execution_count": null,
   "id": "5bb61d3d-5057-466d-8d09-756d4062f3f2",
   "metadata": {},
   "outputs": [],
   "source": []
  }
 ],
 "metadata": {
  "kernelspec": {
   "display_name": "Python 3",
   "language": "python",
   "name": "python3"
  },
  "language_info": {
   "codemirror_mode": {
    "name": "ipython",
    "version": 3
   },
   "file_extension": ".py",
   "mimetype": "text/x-python",
   "name": "python",
   "nbconvert_exporter": "python",
   "pygments_lexer": "ipython3",
   "version": "3.8.8"
  }
 },
 "nbformat": 4,
 "nbformat_minor": 5
}
