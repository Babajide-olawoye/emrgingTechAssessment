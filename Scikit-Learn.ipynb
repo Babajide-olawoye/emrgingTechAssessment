{
 "cells": [
  {
   "cell_type": "markdown",
   "id": "7a5e152d-27f2-4872-b789-779ff626c2d9",
   "metadata": {},
   "source": [
    "# Scikit-Learn Notebook"
   ]
  },
  {
   "cell_type": "markdown",
   "id": "8354be00-2a66-449c-8d15-fe3b19dc8e24",
   "metadata": {},
   "source": [
    "### Overview of scikit-learn python library\n",
    "\n",
    "What is scikit-learn? Well based on scikit-learn.org page, scikit-learn is a \"simple and effiecient tools for predictive data analysis\".  It is a free and open-source machine learning library, that supports both supervised learning algorithms and unsupervised learning algorithms. Scikit library is mostly written in Pythom, and uses NumPy for linear algebra and array operations. In my notebook I will be going through 3 scikit learn algorithms."
   ]
  },
  {
   "cell_type": "markdown",
   "id": "5265f338-2eb0-4afe-b25e-9a762af8222b",
   "metadata": {},
   "source": [
    "# 1. Algorithm \n",
    "### Recognizing hand-writteb digits with scikit-learn classification algorithm\n",
    "\n",
    "My first examplar scikit-learn algorithm will be the classification algorithm, using the svm classifier(support vector machine). This example shows how scikit-learn can be used to recognize images of hand-written digits, from 0-9.\n",
    "\n",
    "> In machine learning, classification refers to a predictive modeling problem where a class label is predicted for a given example of input data. ~ [Machine Learning Mastery](https://machinelearningmastery.com/types-of-classification-in-machine-learning/)\n",
    "\n",
    "\n",
    "\n",
    "Classification algorithm works by taking in data from a dataset, then sepatating the output into a class based the line created by the [svm classifier](https://towardsdatascience.com/https-medium-com-pupalerushikesh-svm-f4b42800e989). \n",
    "\n"
   ]
  },
  {
   "cell_type": "code",
   "execution_count": 37,
   "id": "e9419aaa-1266-4956-9a0f-b0c42efa558f",
   "metadata": {},
   "outputs": [
    {
     "name": "stdout",
     "output_type": "stream",
     "text": [
      "0.9666666666666667\n",
      "The total number of correctly predicted value is: 435 out of 450 datas \n",
      "\n",
      "\n"
     ]
    },
    {
     "data": {
      "image/png": "[encoded data removed]",
      "text/plain": [
       "<Figure size 720x216 with 10 Axes>"
      ]
     },
     "metadata": {
      "needs_background": "light"
     },
     "output_type": "display_data"
    }
   ],
   "source": [
    "# Import datasets, classifiers and performance metrics\n",
    "from sklearn import datasets, svm, metrics\n",
    "from sklearn.neighbors import KNeighborsClassifier\n",
    "from sklearn.model_selection import train_test_split\n",
    "import numpy as np \n",
    "import matplotlib.pyplot as plt\n",
    "\n",
    "#Load digit is a sample dataset, now stored in digi variable\n",
    "digi = datasets.load_digits()\n",
    "\n",
    "# flatten the images\n",
    "n_samples = len(digi.images)\n",
    "\n",
    "data = digi.images.reshape((n_samples, -1))\n",
    "# Create a classifier: a support vector classifier\n",
    "clf = svm.SVC(gamma=0.001)\n",
    "\n",
    "#Kclf = KNeighborsClassifier(n_neighbors=1)\n",
    "\n",
    "\n",
    "\n",
    "# Split data into 50% train and 50% test subsets\n",
    "X_train, X_test, y_train, y_test = train_test_split(\n",
    "    data, digi.target, shuffle=False)\n",
    "\n",
    "\n",
    "\n",
    "# Learn the digits on the train subset\n",
    "clf.fit(X_train, y_train)\n",
    "\n",
    "#Kclf.fit(X_train, y_train)\n",
    "\n",
    "# Predict the value of the digit on the test subset\n",
    "predicted = clf.predict(X_test)\n",
    "#Kprediction = Kclf.predict(X_test)\n",
    "\n",
    "\n",
    "\n",
    "_, axes = plt.subplots(nrows=1, ncols=10, figsize=(10, 3))\n",
    "for ax, image, label in zip(axes, digi.images, predicted):\n",
    "    ax.set_axis_off()\n",
    "    ax.imshow(image, cmap=plt.cm.gray_r, interpolation='nearest')\n",
    "    ax.set_title('Predicted: %i' % label,  fontsize = 5)\n",
    "    \n",
    "\n",
    "\n",
    "# Predictions analyzes\n",
    "# This returns a fraction in decimals of the correctly of samples\n",
    "print(metrics.accuracy_score(predicted, y_test))\n",
    "#print(metrics.accuracy_score(KNN_prediction, y_test))\n",
    "\n",
    "print('The total number of correctly predicted value is: %d out of %d datas \\n\\n' % (metrics.accuracy_score(predicted, y_test, normalize = False),  len(y_test)))\n",
    "\n",
    "\n",
    "#print(classification_report(KNN_prediction, y_test))\n",
    "\n",
    "\n",
    "\n",
    "\n",
    "\n",
    "\n",
    "\n",
    "\n",
    "\n",
    "#Creating my own dataset\n",
    "\n",
    "#Check sample dataset and create dataset based on it\n",
    " \n",
    "# import matplotlib.patches as patches\n",
    "# import matplotlib.cbook as cbook\n",
    "\n",
    "# with cbook.get_sample_data('handWritten6.jpg') as image_file:\n",
    "#     image = plt.imread(image_file)\n",
    "\n",
    "\n",
    "# digi = datasets.load_digits()\n",
    "\n",
    "\n",
    "# print(digi.images[0].format)\n",
    "# #print(image.format)\n",
    "\n",
    "\n",
    "# import pandas as pan\n",
    "\n",
    "# newDataSet = pan.DataFrame(\n",
    "#                             {\n",
    "#                             'images': ([[digi.images[0]], [digi.images[1]], [image]] )\n",
    "#                             }\n",
    "#                           )\n",
    "# print(newDataSet)\n",
    "\n"
   ]
  },
  {
   "cell_type": "markdown",
   "id": "8f02499f-379a-4f58-b2c2-fbda2d556c07",
   "metadata": {},
   "source": [
    "### Classifcaion report"
   ]
  },
  {
   "cell_type": "code",
   "execution_count": 32,
   "id": "265e0d25-7f87-412c-bc0a-202d111f30c4",
   "metadata": {},
   "outputs": [
    {
     "name": "stdout",
     "output_type": "stream",
     "text": [
      "              precision    recall  f1-score   support\n",
      "\n",
      "           0       0.98      1.00      0.99        42\n",
      "           1       1.00      0.98      0.99        47\n",
      "           2       1.00      1.00      1.00        43\n",
      "           3       0.85      0.98      0.91        41\n",
      "           4       0.94      0.98      0.96        46\n",
      "           5       0.98      0.94      0.96        47\n",
      "           6       1.00      0.98      0.99        48\n",
      "           7       1.00      0.98      0.99        46\n",
      "           8       0.98      0.89      0.93        45\n",
      "           9       0.96      0.96      0.96        45\n",
      "\n",
      "    accuracy                           0.97       450\n",
      "   macro avg       0.97      0.97      0.97       450\n",
      "weighted avg       0.97      0.97      0.97       450\n",
      "\n"
     ]
    }
   ],
   "source": [
    "print(metrics.classification_report(predicted, y_test))"
   ]
  },
  {
   "cell_type": "markdown",
   "id": "6aa153b7-dfc2-48ba-873d-a73ccfeef1f3",
   "metadata": {
    "tags": []
   },
   "source": [
    "Above we have the report of the prediction for the examplar dataset \n",
    "\n",
    "> \"***Precision*** is defined as the fraction of relevant instances among all retrieved instances. ***Recall***, sometimes referred to as ‘sensitivity, is the fraction of retrieved instances among all relevant instances. A perfect classifier has precision and recall both equal to 1.\" ~ [DeepAI](https://deepai.org/machine-learning-glossary-and-terms/precision-and-recall)\n",
    "\n",
    "\n",
    "Precision - in terms of scikit-learn, the precision value resulted from the classifier correctly identify a sample data as positive or negative. <br/>\n",
    "Recall - in terms of scikit-learn, the recall value result from the classifier idemtiying all the positive sample. <br/>\n",
    "F1-score - the harmonic means of recall and precision. The highest possible value to get is a 1, which is a perfect value and the lowest possible value is 0. 1 indicates a that the precision and recall both have  a value of 1 and 0 indicates either recall/precision have a 0 value. \n",
    "<br/>\n",
    "\n",
    "\n",
    "\n",
    "\n",
    "\n"
   ]
  },
  {
   "cell_type": "markdown",
   "id": "fae13b99-fb50-4de0-bf27-b07a1ca59aee",
   "metadata": {},
   "source": [
    "\n",
    "\n",
    "2. Algorithm 2\n",
    "\n",
    "3. Algorithm 3"
   ]
  }
 ],
 "metadata": {
  "kernelspec": {
   "display_name": "Python 3",
   "language": "python",
   "name": "python3"
  },
  "language_info": {
   "codemirror_mode": {
    "name": "ipython",
    "version": 3
   },
   "file_extension": ".py",
   "mimetype": "text/x-python",
   "name": "python",
   "nbconvert_exporter": "python",
   "pygments_lexer": "ipython3",
   "version": "3.8.8"
  }
 },
 "nbformat": 4,
 "nbformat_minor": 5
}
