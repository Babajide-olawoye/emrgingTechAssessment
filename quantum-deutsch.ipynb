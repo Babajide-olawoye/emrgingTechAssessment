{
 "cells": [
  {
   "cell_type": "markdown",
   "id": "38a19e3e-24e6-4019-8a38-10406d4b769c",
   "metadata": {},
   "source": [
    "# Quantum computing \n",
    "\n",
    "### What is Quantum computing\n",
    "\n",
    "When it comes to modern physics, quantum theory is the main theory that explains how matter and energy work at the atomic and subatomic level. At that level, things like quantum physics and quantum mechanics are used to talk about how things like matter and energy work and what they look like.\n",
    "So what does quantum computing have to do with quantum theory? Well Quantum computing is a branch of computing that tries to make computer technology operate by implements the theories from quantum theory. With classical computering, which are the majority of computer that we are using today, can only encode information in bits that take the value of 1 or 0. Whereas with quantum computing you use things called \"quantum bits,\" or \"qubits.\" It takes advantage of the unique ability of subatomic particles to be in more than one state at the same time (i.e., a 1 and a 0 at the same time)\n",
    "\n",
    "### Quantum computing vs Classical computing\n",
    "\n",
    "1. Quantum computing is reported to be about a 100 million times faster than any classical computer. Google announced in 2019 that its Sycamore quantum computer had completed a task that a classical computer would have taken 10,000 years to complete in 200 seconds.\n",
    "2. The use of quantum tunneling  in  quantum computers reduces power consumption from about 100 up to 1000 times more than classical computing\n",
    "3. Classical and quantum computers both uses binary code to store data. Classical computers store data in bits as either a 1 or 0, whereas quantum computers store data in qubits as a1, a0, or both simultaneously\n",
    "4. For everyday tasks, classical computers are the best option. Quantum computers, on the other hand, are ideal for running simulations and data analyses, such as in drug or chemical trials.\n",
    "5. Quantum computing power grows exponentially as the number of qubits linked together grows. Meanwhile, with classical computing connecting more transistors increases power in a linear fashion.\n",
    "\n",
    "### Binary code for Quantum and Classical computing\n",
    "\n",
    "#### Classical bits\n",
    "Classical bits \n",
    "\n",
    "\n"
   ]
  },
  {
   "cell_type": "markdown",
   "id": "1f66b390-228b-4e34-a419-3444981d02e8",
   "metadata": {},
   "source": [
    "# The Deutsch-Jozsa algorithm \n",
    "\n",
    "The Deutsch-Jozsa problem was created to test two algorithm, one was the Deutsch-Jozsa algorithm and the other was the \"best classical algorithm\". The Deutsch-Jozsa algoritm was the first quantum algorithm to outperform the classical algorithm. It demonstrated that using a quantum computer can be more beneficial for certain task. Down below I compare the 2 algorithm, with brief explanations. To read more about the deutsch algorithm [click here](https://qiskit.org/textbook/ch-algorithms/deutsch-jozsa.html).\n",
    "\n",
    "f({x0,x1,x2,...}) → 0 or 1, where xn is 0 or 1\n",
    "\n",
    "## The Deutsch-Jozsa Problem \n",
    "\n",
    "The Deutsch-Jozsa problem is defined as follows. Consider a function f(x), that takes as input n-bit strings  and returns 0 or 1. Suppose we are promised that f(x) is either a constant function that takes the same value C £ {0,1} on all inputs X, or a balanced function that takes each value  0 and 1 on exactly half of the inputs. The goal is to decide whether f is constant or balanced by making as few function evaluations as possible. \n",
    "\n",
    "\n",
    "\n",
    "#### Classical computing solution\n",
    "\n",
    "Lets look at a solution using a classical computing approach. We are told the number is either balanced (so half of the result will be 1 and the other half 0), or constant (the result will all be 1 or 0). 2^(n-1) - 1\n",
    "\n"
   ]
  },
  {
   "cell_type": "code",
   "execution_count": null,
   "id": "1557964d-4ab2-4bfb-af82-21ba1df84226",
   "metadata": {},
   "outputs": [],
   "source": []
  }
 ],
 "metadata": {
  "kernelspec": {
   "display_name": "Python 3",
   "language": "python",
   "name": "python3"
  },
  "language_info": {
   "codemirror_mode": {
    "name": "ipython",
    "version": 3
   },
   "file_extension": ".py",
   "mimetype": "text/x-python",
   "name": "python",
   "nbconvert_exporter": "python",
   "pygments_lexer": "ipython3",
   "version": "3.8.8"
  }
 },
 "nbformat": 4,
 "nbformat_minor": 5
}
